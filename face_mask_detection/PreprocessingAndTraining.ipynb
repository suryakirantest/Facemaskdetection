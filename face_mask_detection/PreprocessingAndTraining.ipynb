{
 "cells": [
  {
   "cell_type": "markdown",
   "metadata": {},
   "source": [
    "# Data Preprocessing & Training the CNN Model"
   ]
  },
  {
   "cell_type": "code",
   "execution_count": 12,
   "metadata": {},
   "outputs": [
    {
     "name": "stdout",
     "output_type": "stream",
     "text": [
      "0\n",
      "1\n",
      "(964, 32, 32, 3)\n"
     ]
    },
    {
     "data": {
      "image/png": "[encoded data removed]",
      "text/plain": [
       "<Figure size 720x360 with 1 Axes>"
      ]
     },
     "metadata": {
      "needs_background": "light"
     },
     "output_type": "display_data"
    },
    {
     "name": "stderr",
     "output_type": "stream",
     "text": [
      "WARNING:absl:`lr` is deprecated in Keras optimizer, please use `learning_rate` or use the legacy optimizer, e.g.,tf.keras.optimizers.legacy.Adam.\n"
     ]
    },
    {
     "name": "stdout",
     "output_type": "stream",
     "text": [
      "Epoch 1/10\n",
      "19/19 [==============================] - 7s 260ms/step - loss: 0.6950 - accuracy: 0.5131 - val_loss: 0.6857 - val_accuracy: 0.4959\n",
      "Epoch 2/10\n",
      "19/19 [==============================] - 5s 247ms/step - loss: 0.6834 - accuracy: 0.5656 - val_loss: 0.6611 - val_accuracy: 0.7479\n",
      "Epoch 3/10\n",
      "19/19 [==============================] - 7s 354ms/step - loss: 0.6565 - accuracy: 0.6346 - val_loss: 0.6286 - val_accuracy: 0.7438\n",
      "Epoch 4/10\n",
      "19/19 [==============================] - 7s 369ms/step - loss: 0.6196 - accuracy: 0.6652 - val_loss: 0.5242 - val_accuracy: 0.7975\n",
      "Epoch 5/10\n",
      "19/19 [==============================] - 7s 379ms/step - loss: 0.5560 - accuracy: 0.7298 - val_loss: 0.4662 - val_accuracy: 0.8182\n",
      "Epoch 6/10\n",
      "19/19 [==============================] - 5s 254ms/step - loss: 0.4997 - accuracy: 0.7737 - val_loss: 0.3893 - val_accuracy: 0.8264\n",
      "Epoch 7/10\n",
      "19/19 [==============================] - 4s 234ms/step - loss: 0.4576 - accuracy: 0.7987 - val_loss: 0.3571 - val_accuracy: 0.8719\n",
      "Epoch 8/10\n",
      "19/19 [==============================] - 5s 247ms/step - loss: 0.4169 - accuracy: 0.8228 - val_loss: 0.3098 - val_accuracy: 0.8926\n",
      "Epoch 9/10\n",
      "19/19 [==============================] - 6s 290ms/step - loss: 0.4242 - accuracy: 0.8063 - val_loss: 0.3141 - val_accuracy: 0.8884\n",
      "Epoch 10/10\n",
      "19/19 [==============================] - 5s 255ms/step - loss: 0.3909 - accuracy: 0.8260 - val_loss: 0.2641 - val_accuracy: 0.8926\n"
     ]
    }
   ],
   "source": [
    "import warnings\n",
    "warnings.filterwarnings('ignore')\n",
    "import cv2\n",
    "import numpy as np\n",
    "import os\n",
    "import matplotlib.pyplot as plt\n",
    "from sklearn.model_selection import train_test_split\n",
    "from keras.preprocessing.image import ImageDataGenerator\n",
    "from tensorflow.keras.utils import to_categorical\n",
    "from keras.models import Sequential\n",
    "from keras.layers import Conv2D, Dense, MaxPooling2D, Activation, Dropout, Flatten\n",
    "from keras.optimizers import Adam\n",
    "########################################\n",
    "\n",
    "\n",
    "path='/home/iiit/Desktop/face_mask_detection/dataset'\n",
    "images=[]\n",
    "classNo=[]\n",
    "testRatio=0.2\n",
    "valRatio=0.2\n",
    "imgDimension=(32,32,3)\n",
    "\n",
    "#########################################\n",
    "\n",
    "myList=os.listdir(path)\n",
    "\n",
    "numOfClasses=len(myList)\n",
    "\n",
    "#print(numOfClasses)\n",
    "\n",
    "#print(\"Importing Classes..........\")\n",
    "for x in range(0, numOfClasses):\n",
    "\tmyPicList=os.listdir(path+\"/\"+str(x))\n",
    "\t# myData/0/img.jpg\n",
    "\tfor y in myPicList:\n",
    "\t\tcurImg=cv2.imread(path+\"/\"+str(x)+\"/\"+y)\n",
    "\t\tcurImg=cv2.resize(curImg,(imgDimension[0],imgDimension[1]))\n",
    "\t\timages.append(curImg)\n",
    "\t\tclassNo.append(x)\n",
    "\tprint(x)\n",
    "\n",
    "images=np.array(images)\n",
    "classNo=np.array(classNo)\n",
    "\n",
    "#########Spliting The Data###########\n",
    "\n",
    "x_train, x_test, y_train, y_test=train_test_split(images, classNo, test_size=testRatio)\n",
    "x_train, x_validation, y_train, y_validation=train_test_split(x_train, y_train, test_size=valRatio)\n",
    "\n",
    "print(x_train.shape)\n",
    "\n",
    "numOfSample=[]\n",
    "\n",
    "for x in range(0,numOfClasses):\n",
    "\tnumOfSample.append(len(np.where(y_train==x)[0]))\n",
    "\n",
    "\n",
    "plt.figure(figsize=(10,5))\n",
    "plt.bar(range(0, numOfClasses),numOfSample)\n",
    "plt.title(\"Bar Plot of Classes & Images\")\n",
    "plt.xlabel(\"No Of Classes\")\n",
    "plt.ylabel(\"No of Images\")\n",
    "plt.show()\n",
    "\n",
    "def preprocessing(img):\n",
    "\t# img=np.astype(\"uint8\")\n",
    "\timg=cv2.cvtColor(img, cv2.COLOR_BGR2GRAY)\n",
    "\timg=cv2.equalizeHist(img)\n",
    "\timg=img/255\n",
    "\treturn img\n",
    "\n",
    "x_train=np.array(list(map(preprocessing, x_train)))\n",
    "x_test=np.array(list(map(preprocessing, x_test)))\n",
    "x_validation=np.array(list(map(preprocessing, x_validation)))\n",
    "\n",
    "\n",
    "x_train=x_train.reshape(x_train.shape[0], x_train.shape[1], x_train.shape[2],1)\n",
    "x_test=x_test.reshape(x_test.shape[0], x_test.shape[1], x_test.shape[2],1)\n",
    "x_validation=x_validation.reshape(x_validation.shape[0], x_validation.shape[1], x_validation.shape[2],1)\n",
    "\n",
    "\n",
    "dataGen=ImageDataGenerator(\n",
    "    width_shift_range=0.1,\n",
    "    height_shift_range=0.1,\n",
    "    zoom_range=0.2,\n",
    "    shear_range=0.1,\n",
    "    rotation_range=10)\n",
    "\n",
    "dataGen.fit(x_train)\n",
    "\n",
    "y_train=to_categorical(y_train, numOfClasses)\n",
    "y_test=to_categorical(y_test, numOfClasses)\n",
    "y_validation=to_categorical(y_validation, numOfClasses)\n",
    "\n",
    "\n",
    "def myModel():\n",
    "\tsizeOfFilter1=(3,3)\n",
    "\tsizeOfFilter2=(3,3)\n",
    "\tsizeOfPool=(2,2)\n",
    "\n",
    "\tmodel=Sequential()\n",
    "\tmodel.add((Conv2D(32, sizeOfFilter1, input_shape=(imgDimension[0],imgDimension[1],1),activation='relu')))\n",
    "\tmodel.add((Conv2D(32, sizeOfFilter1,activation='relu')))\n",
    "\tmodel.add(MaxPooling2D(pool_size=sizeOfPool))\n",
    "\n",
    "\tmodel.add((Conv2D(64, sizeOfFilter2,activation='relu')))\n",
    "\tmodel.add((Conv2D(64, sizeOfFilter2,activation='relu')))\n",
    "\tmodel.add(MaxPooling2D(pool_size=sizeOfPool))\n",
    "\tmodel.add(Dropout(0.5))\n",
    "\n",
    "\n",
    "\tmodel.add(Flatten())\n",
    "\tmodel.add(Dense(64, activation='relu'))\n",
    "\tmodel.add(Dropout(0.5))\n",
    "\tmodel.add(Dense(numOfClasses, activation='softmax'))\n",
    "\tmodel.compile(Adam(lr=0.001),loss='categorical_crossentropy',metrics=['accuracy'])\n",
    "\treturn model\n",
    "\n",
    "model=myModel()\n",
    "#print(model.summary())\n",
    "batch_size = 50\n",
    "history=model.fit_generator(dataGen.flow(x_train, y_train,batch_size),\n",
    "\tsteps_per_epoch=len(x_train)//batch_size,\n",
    "\tepochs=10,\n",
    "\tvalidation_data=(x_validation,y_validation),\n",
    "\tshuffle=1)\n",
    "\n",
    "model.save(\"MyTrainingModel.h5\")"
   ]
  },
  {
   "cell_type": "code",
   "execution_count": null,
   "metadata": {},
   "outputs": [],
   "source": []
  },
  {
   "cell_type": "code",
   "execution_count": null,
   "metadata": {},
   "outputs": [],
   "source": []
  }
 ],
 "metadata": {
  "kernelspec": {
   "display_name": "Python 3 (ipykernel)",
   "language": "python",
   "name": "python3"
  },
  "language_info": {
   "codemirror_mode": {
    "name": "ipython",
    "version": 3
   },
   "file_extension": ".py",
   "mimetype": "text/x-python",
   "name": "python",
   "nbconvert_exporter": "python",
   "pygments_lexer": "ipython3",
   "version": "3.9.12"
  }
 },
 "nbformat": 4,
 "nbformat_minor": 4
}
